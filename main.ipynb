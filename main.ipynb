{
 "cells": [
  {
   "cell_type": "code",
   "execution_count": 1,
   "metadata": {},
   "outputs": [],
   "source": [
    "import mate\n",
    "from mate.agents import GreedyCameraAgent, GreedyTargetAgent\n",
    "\n",
    "import numpy as np\n",
    "\n",
    "import matplotlib.pyplot as plt"
   ]
  },
  {
   "cell_type": "code",
   "execution_count": 2,
   "metadata": {},
   "outputs": [],
   "source": [
    "\n",
    "MAX_EPISODE_STEPS = 4000"
   ]
  },
  {
   "cell_type": "code",
   "execution_count": 3,
   "metadata": {},
   "outputs": [],
   "source": [
    "def main():\n",
    "\tbase_env = mate.make('MultiAgentTracking-v0', config = \"MATE-8v8-9.yaml\")\n",
    "\tbase_env = mate.RenderCommunication(base_env)\n",
    "\n",
    "\t# env = mate.MultiCamera(base_env, target_agent=GreedyTargetAgent())\n",
    "\n",
    "\tenv = mate.MultiTarget(base_env, camera_agent=GreedyCameraAgent())\n",
    "\n",
    "\tprint(env)\n",
    "\n",
    "\t# camera_agents = GreedyCameraAgent().spawn(env.num_cameras)\n",
    "\n",
    "\ttarget_agents = GreedyTargetAgent().spawn(env.num_targets)\n",
    "\n",
    "\n",
    "\n",
    "\n",
    "\ttarget_joint_observation = env.reset()\n",
    "\t# env.render(mode='rgb_array')\n",
    "\n",
    "\tmate.group_reset(target_agents, target_joint_observation)\n",
    "\ttarget_info = None\n",
    "\n",
    "\tfor i in range(MAX_EPISODE_STEPS):\n",
    "\n",
    "\t\ttarget_joint_action = mate.group_step(\n",
    "\t\t\tenv, target_agents, target_joint_observation, target_info\n",
    "\t\t)\n",
    "\n",
    "\t\tresults = env.step(target_joint_action)\n",
    "\n",
    "\t\ttarget_joint_observation, target_team_reward, done, target_info = results\n",
    "\n",
    "\t\tarr = env.render(mode='rgb_array')\n",
    "\t\tarr: np.ndarray\n",
    "\n",
    "\t\tif done:\n",
    "\t\t\tenv.close()\n",
    "\t\t\tbreak"
   ]
  },
  {
   "cell_type": "code",
   "execution_count": 4,
   "metadata": {},
   "outputs": [
    {
     "name": "stdout",
     "output_type": "stream",
     "text": [
      "<MultiTarget(opponent=mate.agents.greedy.GreedyCameraAgent)<RenderCommunication<MultiAgentTracking<MultiAgentTracking-v0>>(8 cameras, 8 targets, 9 obstacles)>>\n"
     ]
    },
    {
     "name": "stderr",
     "output_type": "stream",
     "text": [
      "/Users/thefool/Local/Project/MATE/.venv/lib/python3.10/site-packages/pygame/pkgdata.py:25: UserWarning: pkg_resources is deprecated as an API. See https://setuptools.pypa.io/en/latest/pkg_resources.html. The pkg_resources package is slated for removal as early as 2025-11-30. Refrain from using this package or pin to Setuptools<81.\n",
      "  from pkg_resources import resource_stream, resource_exists\n"
     ]
    },
    {
     "name": "stdout",
     "output_type": "stream",
     "text": [
      "pygame 2.6.1 (SDL 2.28.4, Python 3.10.18)\n",
      "Hello from the pygame community. https://www.pygame.org/contribute.html\n",
      "0.0\n",
      "0.0\n",
      "0.0\n",
      "0.0\n",
      "0.0\n",
      "0.0\n",
      "0.0\n",
      "0.0\n",
      "0.0\n",
      "0.0\n",
      "26.109661102294922\n",
      "26.109661102294922\n",
      "26.109661102294922\n",
      "26.109661102294922\n",
      "26.109661102294922\n",
      "26.109661102294922\n",
      "26.109661102294922\n",
      "26.109661102294922\n",
      "26.109661102294922\n",
      "26.109661102294922\n",
      "26.24671745300293\n",
      "26.24671745300293\n",
      "26.24671745300293\n",
      "26.24671745300293\n",
      "26.24671745300293\n",
      "26.24671745300293\n",
      "26.24671745300293\n",
      "26.24671745300293\n",
      "26.24671745300293\n",
      "26.24671745300293\n",
      "27.624309539794922\n",
      "27.624309539794922\n",
      "27.624309539794922\n",
      "27.624309539794922\n",
      "27.624309539794922\n",
      "27.624309539794922\n",
      "27.624309539794922\n",
      "27.624309539794922\n",
      "27.624309539794922\n",
      "27.624309539794922\n",
      "25.773195266723633\n",
      "25.773195266723633\n",
      "25.773195266723633\n",
      "25.773195266723633\n",
      "25.773195266723633\n",
      "25.773195266723633\n",
      "25.773195266723633\n",
      "25.773195266723633\n",
      "25.773195266723633\n",
      "25.773195266723633\n",
      "25.510204315185547\n",
      "25.510204315185547\n",
      "25.510204315185547\n",
      "25.510204315185547\n",
      "25.510204315185547\n",
      "25.510204315185547\n",
      "25.510204315185547\n",
      "25.510204315185547\n",
      "25.510204315185547\n",
      "25.510204315185547\n",
      "24.93765640258789\n",
      "24.93765640258789\n",
      "24.93765640258789\n"
     ]
    },
    {
     "ename": "KeyboardInterrupt",
     "evalue": "",
     "output_type": "error",
     "traceback": [
      "\u001b[0;31m---------------------------------------------------------------------------\u001b[0m",
      "\u001b[0;31mKeyboardInterrupt\u001b[0m                         Traceback (most recent call last)",
      "Cell \u001b[0;32mIn[4], line 1\u001b[0m\n\u001b[0;32m----> 1\u001b[0m \u001b[43mmain\u001b[49m\u001b[43m(\u001b[49m\u001b[43m)\u001b[49m\n",
      "Cell \u001b[0;32mIn[3], line 34\u001b[0m, in \u001b[0;36mmain\u001b[0;34m()\u001b[0m\n\u001b[1;32m     30\u001b[0m results \u001b[38;5;241m=\u001b[39m env\u001b[38;5;241m.\u001b[39mstep(target_joint_action)\n\u001b[1;32m     32\u001b[0m target_joint_observation, target_team_reward, done, target_info \u001b[38;5;241m=\u001b[39m results\n\u001b[0;32m---> 34\u001b[0m arr \u001b[38;5;241m=\u001b[39m \u001b[43menv\u001b[49m\u001b[38;5;241;43m.\u001b[39;49m\u001b[43mrender\u001b[49m\u001b[43m(\u001b[49m\u001b[43mmode\u001b[49m\u001b[38;5;241;43m=\u001b[39;49m\u001b[38;5;124;43m'\u001b[39;49m\u001b[38;5;124;43mrgb_array\u001b[39;49m\u001b[38;5;124;43m'\u001b[39;49m\u001b[43m)\u001b[49m\n\u001b[1;32m     35\u001b[0m arr: np\u001b[38;5;241m.\u001b[39mndarray\n\u001b[1;32m     37\u001b[0m \u001b[38;5;28;01mif\u001b[39;00m done:\n",
      "File \u001b[0;32m~/Local/Project/MATE/.venv/lib/python3.10/site-packages/gym/core.py:230\u001b[0m, in \u001b[0;36mWrapper.render\u001b[0;34m(self, mode, **kwargs)\u001b[0m\n\u001b[1;32m    229\u001b[0m \u001b[38;5;28;01mdef\u001b[39;00m\u001b[38;5;250m \u001b[39m\u001b[38;5;21mrender\u001b[39m(\u001b[38;5;28mself\u001b[39m, mode\u001b[38;5;241m=\u001b[39m\u001b[38;5;124m'\u001b[39m\u001b[38;5;124mhuman\u001b[39m\u001b[38;5;124m'\u001b[39m, \u001b[38;5;241m*\u001b[39m\u001b[38;5;241m*\u001b[39mkwargs):\n\u001b[0;32m--> 230\u001b[0m     \u001b[38;5;28;01mreturn\u001b[39;00m \u001b[38;5;28;43mself\u001b[39;49m\u001b[38;5;241;43m.\u001b[39;49m\u001b[43menv\u001b[49m\u001b[38;5;241;43m.\u001b[39;49m\u001b[43mrender\u001b[49m\u001b[43m(\u001b[49m\u001b[43mmode\u001b[49m\u001b[43m,\u001b[49m\u001b[43m \u001b[49m\u001b[38;5;241;43m*\u001b[39;49m\u001b[38;5;241;43m*\u001b[39;49m\u001b[43mkwargs\u001b[49m\u001b[43m)\u001b[49m\n",
      "File \u001b[0;32m~/Local/Project/MATE/.venv/lib/python3.10/site-packages/gym/core.py:230\u001b[0m, in \u001b[0;36mWrapper.render\u001b[0;34m(self, mode, **kwargs)\u001b[0m\n\u001b[1;32m    229\u001b[0m \u001b[38;5;28;01mdef\u001b[39;00m\u001b[38;5;250m \u001b[39m\u001b[38;5;21mrender\u001b[39m(\u001b[38;5;28mself\u001b[39m, mode\u001b[38;5;241m=\u001b[39m\u001b[38;5;124m'\u001b[39m\u001b[38;5;124mhuman\u001b[39m\u001b[38;5;124m'\u001b[39m, \u001b[38;5;241m*\u001b[39m\u001b[38;5;241m*\u001b[39mkwargs):\n\u001b[0;32m--> 230\u001b[0m     \u001b[38;5;28;01mreturn\u001b[39;00m \u001b[38;5;28;43mself\u001b[39;49m\u001b[38;5;241;43m.\u001b[39;49m\u001b[43menv\u001b[49m\u001b[38;5;241;43m.\u001b[39;49m\u001b[43mrender\u001b[49m\u001b[43m(\u001b[49m\u001b[43mmode\u001b[49m\u001b[43m,\u001b[49m\u001b[43m \u001b[49m\u001b[38;5;241;43m*\u001b[39;49m\u001b[38;5;241;43m*\u001b[39;49m\u001b[43mkwargs\u001b[49m\u001b[43m)\u001b[49m\n",
      "File \u001b[0;32m~/Local/Project/MATE/mate/environment.py:1420\u001b[0m, in \u001b[0;36mMultiAgentTracking.render\u001b[0;34m(self, mode, window_size, onetime_callbacks)\u001b[0m\n\u001b[1;32m   1417\u001b[0m     callback(\u001b[38;5;28mself\u001b[39m, mode)\n\u001b[1;32m   1419\u001b[0m \u001b[38;5;66;03m# pylint: disable-next=superfluous-parens\u001b[39;00m\n\u001b[0;32m-> 1420\u001b[0m \u001b[38;5;28;01mreturn\u001b[39;00m \u001b[38;5;28;43mself\u001b[39;49m\u001b[38;5;241;43m.\u001b[39;49m\u001b[43mviewer\u001b[49m\u001b[38;5;241;43m.\u001b[39;49m\u001b[43mrender\u001b[49m\u001b[43m(\u001b[49m\u001b[43m)\u001b[49m\n",
      "File \u001b[0;32m~/Local/Project/MATE/mate/assets/pygletrendering.py:452\u001b[0m, in \u001b[0;36mViewer.render\u001b[0;34m(self)\u001b[0m\n\u001b[1;32m    450\u001b[0m \u001b[38;5;28;01mfor\u001b[39;00m geom \u001b[38;5;129;01min\u001b[39;00m \u001b[38;5;28mself\u001b[39m\u001b[38;5;241m.\u001b[39monetime_geoms:\n\u001b[1;32m    451\u001b[0m     geom\u001b[38;5;241m.\u001b[39madd_transform(\u001b[38;5;28mself\u001b[39m\u001b[38;5;241m.\u001b[39mtransform)\n\u001b[0;32m--> 452\u001b[0m     \u001b[43mgeom\u001b[49m\u001b[38;5;241;43m.\u001b[39;49m\u001b[43mrender\u001b[49m\u001b[43m(\u001b[49m\u001b[43mwindow\u001b[49m\u001b[43m,\u001b[49m\u001b[43m \u001b[49m\u001b[38;5;28;43mself\u001b[39;49m\u001b[38;5;241;43m.\u001b[39;49m\u001b[43mnumpy_array\u001b[49m\u001b[43m)\u001b[49m\n\u001b[1;32m    453\u001b[0m     geom\u001b[38;5;241m.\u001b[39msub_transform(\u001b[38;5;28mself\u001b[39m\u001b[38;5;241m.\u001b[39mtransform)\n\u001b[1;32m    456\u001b[0m \u001b[38;5;28mself\u001b[39m\u001b[38;5;241m.\u001b[39monetime_geoms\u001b[38;5;241m.\u001b[39mclear()\n",
      "File \u001b[0;32m~/Local/Project/MATE/mate/assets/pygletrendering.py:159\u001b[0m, in \u001b[0;36mPolygon.render\u001b[0;34m(self, surf, numpy_array)\u001b[0m\n\u001b[1;32m    156\u001b[0m     \u001b[38;5;28;01mreturn\u001b[39;00m\n\u001b[1;32m    158\u001b[0m \u001b[38;5;28;01mif\u001b[39;00m \u001b[38;5;28mself\u001b[39m\u001b[38;5;241m.\u001b[39mcolor[\u001b[38;5;241m3\u001b[39m] \u001b[38;5;241m!=\u001b[39m \u001b[38;5;241m255\u001b[39m:\n\u001b[0;32m--> 159\u001b[0m     \u001b[38;5;28;43mself\u001b[39;49m\u001b[38;5;241;43m.\u001b[39;49m\u001b[43mdraw_polygon_alpha\u001b[49m\u001b[43m(\u001b[49m\u001b[43msurf\u001b[49m\u001b[43m,\u001b[49m\u001b[43m \u001b[49m\u001b[43mV\u001b[49m\u001b[43m)\u001b[49m\n\u001b[1;32m    161\u001b[0m \u001b[38;5;28;01melse\u001b[39;00m:\n\u001b[1;32m    162\u001b[0m     pygame\u001b[38;5;241m.\u001b[39mdraw\u001b[38;5;241m.\u001b[39mpolygon(surf, \u001b[38;5;28mself\u001b[39m\u001b[38;5;241m.\u001b[39mcolor, V, \u001b[38;5;28mself\u001b[39m\u001b[38;5;241m.\u001b[39mwidth)\n",
      "File \u001b[0;32m~/Local/Project/MATE/mate/assets/pygletrendering.py:140\u001b[0m, in \u001b[0;36mPolygon.draw_polygon_alpha\u001b[0;34m(self, surface, points)\u001b[0m\n\u001b[1;32m    138\u001b[0m target_rect \u001b[38;5;241m=\u001b[39m pygame\u001b[38;5;241m.\u001b[39mRect(min_x, min_y, max_x \u001b[38;5;241m-\u001b[39m min_x, max_y \u001b[38;5;241m-\u001b[39m min_y)\n\u001b[1;32m    139\u001b[0m shape_surf \u001b[38;5;241m=\u001b[39m pygame\u001b[38;5;241m.\u001b[39mSurface(target_rect\u001b[38;5;241m.\u001b[39msize, pygame\u001b[38;5;241m.\u001b[39mSRCALPHA)\n\u001b[0;32m--> 140\u001b[0m \u001b[43mpygame\u001b[49m\u001b[38;5;241;43m.\u001b[39;49m\u001b[43mdraw\u001b[49m\u001b[38;5;241;43m.\u001b[39;49m\u001b[43mpolygon\u001b[49m\u001b[43m(\u001b[49m\u001b[43mshape_surf\u001b[49m\u001b[43m,\u001b[49m\u001b[43m \u001b[49m\u001b[38;5;28;43mself\u001b[39;49m\u001b[38;5;241;43m.\u001b[39;49m\u001b[43mcolor\u001b[49m\u001b[43m,\u001b[49m\u001b[43m \u001b[49m\u001b[43m[\u001b[49m\u001b[43m(\u001b[49m\u001b[43mx\u001b[49m\u001b[43m \u001b[49m\u001b[38;5;241;43m-\u001b[39;49m\u001b[43m \u001b[49m\u001b[43mmin_x\u001b[49m\u001b[43m,\u001b[49m\u001b[43m \u001b[49m\u001b[43my\u001b[49m\u001b[43m \u001b[49m\u001b[38;5;241;43m-\u001b[39;49m\u001b[43m \u001b[49m\u001b[43mmin_y\u001b[49m\u001b[43m)\u001b[49m\u001b[43m \u001b[49m\u001b[38;5;28;43;01mfor\u001b[39;49;00m\u001b[43m \u001b[49m\u001b[43mx\u001b[49m\u001b[43m,\u001b[49m\u001b[43m \u001b[49m\u001b[43my\u001b[49m\u001b[43m \u001b[49m\u001b[38;5;129;43;01min\u001b[39;49;00m\u001b[43m \u001b[49m\u001b[43mpoints\u001b[49m\u001b[43m]\u001b[49m\u001b[43m,\u001b[49m\u001b[43m \u001b[49m\u001b[38;5;28;43mself\u001b[39;49m\u001b[38;5;241;43m.\u001b[39;49m\u001b[43mwidth\u001b[49m\u001b[43m)\u001b[49m\n\u001b[1;32m    141\u001b[0m surface\u001b[38;5;241m.\u001b[39mblit(shape_surf, target_rect)\n",
      "\u001b[0;31mKeyboardInterrupt\u001b[0m: "
     ]
    }
   ],
   "source": [
    "main()"
   ]
  },
  {
   "cell_type": "code",
   "execution_count": null,
   "metadata": {},
   "outputs": [],
   "source": []
  }
 ],
 "metadata": {
  "kernelspec": {
   "display_name": ".venv",
   "language": "python",
   "name": "python3"
  },
  "language_info": {
   "codemirror_mode": {
    "name": "ipython",
    "version": 3
   },
   "file_extension": ".py",
   "mimetype": "text/x-python",
   "name": "python",
   "nbconvert_exporter": "python",
   "pygments_lexer": "ipython3",
   "version": "3.10.18"
  }
 },
 "nbformat": 4,
 "nbformat_minor": 2
}
