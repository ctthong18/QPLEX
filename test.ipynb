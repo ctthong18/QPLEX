{
 "cells": [
  {
   "cell_type": "code",
   "execution_count": 1,
   "id": "e3378c9d",
   "metadata": {},
   "outputs": [],
   "source": [
    "import random\n",
    "import pandas as pd\n",
    "\n",
    "import torch\n",
    "from common_net.moe import TopKMoE, TopKMoEConfig, MoEGateLossManager\n",
    "from common_net.attentions import MultiHeadAttention, LinearAttention, MHAConfig\n",
    "from common_net.att_block import MAB\n",
    "import torch.nn as nn\n",
    "import torch.optim as optim\n",
    "\n",
    "from torch.utils.data import Dataset, DataLoader"
   ]
  },
  {
   "cell_type": "code",
   "execution_count": 2,
   "id": "8ba80a08",
   "metadata": {},
   "outputs": [],
   "source": [
    "seed = 42\n",
    "set_size = 4\n",
    "n_samples=10000"
   ]
  },
  {
   "cell_type": "code",
   "execution_count": 3,
   "id": "a6651115",
   "metadata": {},
   "outputs": [],
   "source": [
    "def generate_set_attention_dataset(n_samples=1000, set_size=5,\n",
    "                                   task=\"sum\", threshold=5, seed=None):\n",
    "    \"\"\"\n",
    "    Generate a toy dataset for set attention tasks.\n",
    "\n",
    "    Args:\n",
    "        n_samples (int): Number of samples to generate.\n",
    "        set_size (int): Number of elements in each set.\n",
    "        task (str): Task type: 'sum', 'max', 'count_above', 'mean'.\n",
    "        threshold (int): Used if task == 'count_above'.\n",
    "        seed (int or None): Random seed for reproducibility.\n",
    "\n",
    "    Returns:\n",
    "        pd.DataFrame: Dataset with columns ['set', 'label'].\n",
    "    \"\"\"\n",
    "    if seed is not None:\n",
    "        random.seed(seed)\n",
    "\n",
    "    data = []\n",
    "    for _ in range(n_samples):\n",
    "        s = [random.randint(0, 10) for _ in range(set_size)]\n",
    "\n",
    "        if task == \"sum\":\n",
    "            label = sum(s)\n",
    "        elif task == \"max\":\n",
    "            label = max(s)\n",
    "        elif task == \"mean\":\n",
    "            label = sum(s) / len(s)\n",
    "        elif task == \"count_above\":\n",
    "            label = sum(1 for x in s if x > threshold)\n",
    "        else:\n",
    "            raise ValueError(\"Unsupported task\")\n",
    "\n",
    "        data.append({\"set\": s, \"label\": label})\n",
    "\n",
    "    return pd.DataFrame(data)\n"
   ]
  },
  {
   "cell_type": "code",
   "execution_count": 4,
   "id": "0421eee4",
   "metadata": {},
   "outputs": [
    {
     "data": {
      "text/html": [
       "<div>\n",
       "<style scoped>\n",
       "    .dataframe tbody tr th:only-of-type {\n",
       "        vertical-align: middle;\n",
       "    }\n",
       "\n",
       "    .dataframe tbody tr th {\n",
       "        vertical-align: top;\n",
       "    }\n",
       "\n",
       "    .dataframe thead th {\n",
       "        text-align: right;\n",
       "    }\n",
       "</style>\n",
       "<table border=\"1\" class=\"dataframe\">\n",
       "  <thead>\n",
       "    <tr style=\"text-align: right;\">\n",
       "      <th></th>\n",
       "      <th>set</th>\n",
       "      <th>label</th>\n",
       "    </tr>\n",
       "  </thead>\n",
       "  <tbody>\n",
       "    <tr>\n",
       "      <th>0</th>\n",
       "      <td>[10, 1, 0, 4]</td>\n",
       "      <td>3.75</td>\n",
       "    </tr>\n",
       "    <tr>\n",
       "      <th>1</th>\n",
       "      <td>[3, 3, 2, 1]</td>\n",
       "      <td>2.25</td>\n",
       "    </tr>\n",
       "    <tr>\n",
       "      <th>2</th>\n",
       "      <td>[10, 8, 1, 9]</td>\n",
       "      <td>7.00</td>\n",
       "    </tr>\n",
       "    <tr>\n",
       "      <th>3</th>\n",
       "      <td>[6, 0, 0, 1]</td>\n",
       "      <td>1.75</td>\n",
       "    </tr>\n",
       "    <tr>\n",
       "      <th>4</th>\n",
       "      <td>[3, 3, 8, 9]</td>\n",
       "      <td>5.75</td>\n",
       "    </tr>\n",
       "    <tr>\n",
       "      <th>...</th>\n",
       "      <td>...</td>\n",
       "      <td>...</td>\n",
       "    </tr>\n",
       "    <tr>\n",
       "      <th>9995</th>\n",
       "      <td>[3, 1, 7, 5]</td>\n",
       "      <td>4.00</td>\n",
       "    </tr>\n",
       "    <tr>\n",
       "      <th>9996</th>\n",
       "      <td>[5, 2, 9, 7]</td>\n",
       "      <td>5.75</td>\n",
       "    </tr>\n",
       "    <tr>\n",
       "      <th>9997</th>\n",
       "      <td>[7, 6, 0, 1]</td>\n",
       "      <td>3.50</td>\n",
       "    </tr>\n",
       "    <tr>\n",
       "      <th>9998</th>\n",
       "      <td>[4, 5, 8, 4]</td>\n",
       "      <td>5.25</td>\n",
       "    </tr>\n",
       "    <tr>\n",
       "      <th>9999</th>\n",
       "      <td>[0, 8, 1, 1]</td>\n",
       "      <td>2.50</td>\n",
       "    </tr>\n",
       "  </tbody>\n",
       "</table>\n",
       "<p>10000 rows × 2 columns</p>\n",
       "</div>"
      ],
      "text/plain": [
       "                set  label\n",
       "0     [10, 1, 0, 4]   3.75\n",
       "1      [3, 3, 2, 1]   2.25\n",
       "2     [10, 8, 1, 9]   7.00\n",
       "3      [6, 0, 0, 1]   1.75\n",
       "4      [3, 3, 8, 9]   5.75\n",
       "...             ...    ...\n",
       "9995   [3, 1, 7, 5]   4.00\n",
       "9996   [5, 2, 9, 7]   5.75\n",
       "9997   [7, 6, 0, 1]   3.50\n",
       "9998   [4, 5, 8, 4]   5.25\n",
       "9999   [0, 8, 1, 1]   2.50\n",
       "\n",
       "[10000 rows x 2 columns]"
      ]
     },
     "execution_count": 4,
     "metadata": {},
     "output_type": "execute_result"
    }
   ],
   "source": [
    "# Example usage\n",
    "df = generate_set_attention_dataset(n_samples=n_samples, set_size=set_size, task=\"mean\", seed=seed)\n",
    "df\n"
   ]
  },
  {
   "cell_type": "code",
   "execution_count": 6,
   "id": "1e0a5aa0",
   "metadata": {},
   "outputs": [],
   "source": [
    "class SetDataset(Dataset):\n",
    "    def __init__(self, dataframe):\n",
    "        self.dataframe = dataframe\n",
    "\n",
    "    def __len__(self):\n",
    "        return len(self.dataframe)\n",
    "\n",
    "    def __getitem__(self, idx):\n",
    "        row = self.dataframe.iloc[idx]\n",
    "        x = torch.tensor(row['set'], dtype=torch.float32).unsqueeze(-1)\n",
    "        y = torch.tensor(row['label'], dtype=torch.float32)\n",
    "        return x, y"
   ]
  },
  {
   "cell_type": "code",
   "execution_count": 7,
   "id": "30e373fb",
   "metadata": {},
   "outputs": [],
   "source": [
    "def acc(preds, targets, tol=0.01):\n",
    "    return ((preds - targets).abs() < tol).float().mean().item()\n",
    "\n",
    "def train(model: MAB, train_ds: Dataset, eval_ds: Dataset, epochs=20, batch_size=32, lr=1e-3, device=\"cpu\"):\n",
    "    model.to(device)\n",
    "    optimizer = optim.Adam(model.parameters(), lr=lr)\n",
    "    criterion = nn.MSELoss()\n",
    "    gate_criterion = MoEGateLossManager(model)\n",
    "\n",
    "    # Prepare data\n",
    "    train_loader = DataLoader(train_ds, batch_size=batch_size, shuffle=True)\n",
    "\n",
    "    eval_loader = DataLoader(eval_ds, batch_size=batch_size, shuffle=False)\n",
    "\n",
    "\n",
    "    for epoch in range(1, epochs + 1):\n",
    "        for x, y in train_loader:\n",
    "            x, y = x.to(device), y.to(device)\n",
    "            preds = model(x).squeeze(-1)\n",
    "            loss = criterion(preds, y) + gate_criterion()\n",
    "            optimizer.zero_grad()\n",
    "            loss.backward()\n",
    "            optimizer.step()\n",
    "\n",
    "        if epoch % 5 == 0 or epoch == 1:\n",
    "            print(f\"Epoch {epoch:02d} | Loss: {loss.item():.4f}\")\n",
    "\n",
    "        # Evaluation\n",
    "        model.eval()\n",
    "        all_preds = []\n",
    "        all_targets = []\n",
    "        with torch.no_grad():\n",
    "            for x_val, y_val in eval_loader:\n",
    "                x_val, y_val = x_val.to(device), y_val.to(device)\n",
    "                val_preds = model(x_val).squeeze(-1)\n",
    "                all_preds.append(val_preds.cpu())\n",
    "                all_targets.append(y_val.cpu())\n",
    "        all_preds = torch.cat(all_preds)\n",
    "        all_targets = torch.cat(all_targets)\n",
    "        evaluation_acc = acc(all_preds, all_targets)\n",
    "        print(f\"Evaluation Accuracy: {evaluation_acc:.4f}\")\n",
    "        if evaluation_acc >= 0.99:\n",
    "            break\n",
    "\n",
    "    return model"
   ]
  },
  {
   "cell_type": "code",
   "execution_count": 8,
   "id": "acf2c549",
   "metadata": {},
   "outputs": [],
   "source": [
    "class PoolSet(nn.Module):\n",
    "    def __init__(self, method=\"mean\"):\n",
    "        super().__init__()\n",
    "        assert method in [\"mean\", \"sum\", \"max\"], \"Unsupported pooling method\"\n",
    "        self.method = method\n",
    "\n",
    "    def forward(self, x: torch.Tensor) -> torch.Tensor:\n",
    "        if self.method == \"mean\":\n",
    "            return x.mean(dim=1)\n",
    "        elif self.method == \"sum\":\n",
    "            return x.sum(dim=1)\n",
    "        elif self.method == \"max\":\n",
    "            return x.max(dim=1).values"
   ]
  },
  {
   "cell_type": "code",
   "execution_count": 9,
   "id": "9895457d",
   "metadata": {},
   "outputs": [],
   "source": [
    "batch_size = 64\n",
    "\n",
    "model = nn.Sequential(\n",
    "    nn.Linear(1, 16),\n",
    "    MAB(\n",
    "        16,\n",
    "        d_ff=32,\n",
    "        mha_config=MHAConfig(\n",
    "            num_heads=4,\n",
    "            attn_cls=LinearAttention,\n",
    "            gated=True,\n",
    "            num_k_heads=4//2,\n",
    "            num_v_heads=4//2\n",
    "        ),\n",
    "        moe_cls=TopKMoE,\n",
    "    ),\n",
    "    PoolSet(method=\"mean\"),\n",
    "    nn.Linear(16, 1)\n",
    ")"
   ]
  },
  {
   "cell_type": "code",
   "execution_count": 10,
   "id": "32e638ff",
   "metadata": {},
   "outputs": [
    {
     "data": {
      "text/plain": [
       "Sequential(\n",
       "  (0): Linear(in_features=1, out_features=16, bias=True)\n",
       "  (1): MAB(\n",
       "    (inp_norm): ZeroCenteredRMSNorm((16,), eps=1e-06)\n",
       "    (attn): MultiHeadAttention(\n",
       "      (q_proj): Linear(in_features=16, out_features=16, bias=False)\n",
       "      (k_proj): Linear(in_features=16, out_features=8, bias=False)\n",
       "      (v_proj): Linear(in_features=16, out_features=8, bias=False)\n",
       "      (gate): Gated(\n",
       "        (gate): Sequential(\n",
       "          (0): Linear(in_features=16, out_features=16, bias=False)\n",
       "          (1): Sigmoid()\n",
       "        )\n",
       "      )\n",
       "      (out_proj): Linear(in_features=16, out_features=16, bias=False)\n",
       "      (attn): LinearAttention()\n",
       "      (q_norm): ZeroCenteredRMSNorm((4,), eps=1e-06)\n",
       "      (k_norm): ZeroCenteredRMSNorm((4,), eps=1e-06)\n",
       "    )\n",
       "    (ff_norm): ZeroCenteredRMSNorm((16,), eps=1e-06)\n",
       "    (ff): TopKMoE(\n",
       "      (experts): ModuleList(\n",
       "        (0-3): 4 x GatedMLP(\n",
       "          (up): Linear(in_features=16, out_features=32, bias=False)\n",
       "          (down): Linear(in_features=32, out_features=16, bias=False)\n",
       "          (gate): Gated(\n",
       "            (gate): Sequential(\n",
       "              (0): Linear(in_features=16, out_features=32, bias=False)\n",
       "              (1): Sigmoid()\n",
       "            )\n",
       "          )\n",
       "        )\n",
       "      )\n",
       "      (gate): Linear(in_features=16, out_features=4, bias=False)\n",
       "    )\n",
       "  )\n",
       "  (2): PoolSet()\n",
       "  (3): Linear(in_features=16, out_features=1, bias=True)\n",
       ")"
      ]
     },
     "execution_count": 10,
     "metadata": {},
     "output_type": "execute_result"
    }
   ],
   "source": [
    "model"
   ]
  },
  {
   "cell_type": "code",
   "execution_count": 11,
   "id": "c724b098",
   "metadata": {},
   "outputs": [],
   "source": [
    "# model = MeanAttentionNet()"
   ]
  },
  {
   "cell_type": "code",
   "execution_count": 12,
   "id": "42a33a60",
   "metadata": {},
   "outputs": [],
   "source": [
    "train_ds = SetDataset(df[:int(0.8*len(df))])\n",
    "eval_ds = SetDataset(df[int(0.8*len(df)):])"
   ]
  },
  {
   "cell_type": "code",
   "execution_count": null,
   "id": "d8dda69b",
   "metadata": {},
   "outputs": [
    {
     "name": "stdout",
     "output_type": "stream",
     "text": [
      "Epoch 01 | Loss: 0.1060\n",
      "Evaluation Accuracy: 0.0320\n",
      "Evaluation Accuracy: 0.0500\n",
      "Evaluation Accuracy: 0.0395\n",
      "Evaluation Accuracy: 0.0620\n",
      "Epoch 05 | Loss: 0.0279\n",
      "Evaluation Accuracy: 0.0570\n",
      "Evaluation Accuracy: 0.1035\n",
      "Evaluation Accuracy: 0.1725\n",
      "Evaluation Accuracy: 0.1670\n",
      "Evaluation Accuracy: 0.1825\n",
      "Epoch 10 | Loss: 0.0006\n",
      "Evaluation Accuracy: 0.3230\n",
      "Evaluation Accuracy: 0.3475\n",
      "Evaluation Accuracy: 0.4540\n",
      "Evaluation Accuracy: 0.4950\n",
      "Evaluation Accuracy: 0.5320\n",
      "Epoch 15 | Loss: 0.0003\n",
      "Evaluation Accuracy: 0.5270\n",
      "Evaluation Accuracy: 0.5130\n",
      "Evaluation Accuracy: 0.6325\n",
      "Evaluation Accuracy: 0.6605\n",
      "Evaluation Accuracy: 0.6815\n",
      "Epoch 20 | Loss: 0.0001\n",
      "Evaluation Accuracy: 0.7175\n",
      "Evaluation Accuracy: 0.6720\n",
      "Evaluation Accuracy: 0.7545\n",
      "Evaluation Accuracy: 0.6315\n",
      "Evaluation Accuracy: 0.8250\n",
      "Epoch 25 | Loss: 0.0000\n",
      "Evaluation Accuracy: 0.8405\n",
      "Evaluation Accuracy: 0.8670\n",
      "Evaluation Accuracy: 0.8820\n",
      "Evaluation Accuracy: 0.8820\n",
      "Evaluation Accuracy: 0.8820\n",
      "Epoch 30 | Loss: 0.0001\n",
      "Evaluation Accuracy: 0.9105\n",
      "Evaluation Accuracy: 0.8480\n",
      "Evaluation Accuracy: 0.9370\n",
      "Evaluation Accuracy: 0.9070\n",
      "Evaluation Accuracy: 0.9595\n",
      "Epoch 35 | Loss: 0.0000\n",
      "Evaluation Accuracy: 0.9500\n",
      "Evaluation Accuracy: 0.9650\n",
      "Evaluation Accuracy: 0.9760\n",
      "Evaluation Accuracy: 0.9700\n",
      "Evaluation Accuracy: 0.9615\n",
      "Epoch 40 | Loss: 0.0000\n",
      "Evaluation Accuracy: 0.9775\n",
      "Evaluation Accuracy: 0.9820\n",
      "Evaluation Accuracy: 0.9850\n",
      "Evaluation Accuracy: 0.9410\n",
      "Evaluation Accuracy: 0.9845\n",
      "Epoch 45 | Loss: 0.0000\n",
      "Evaluation Accuracy: 0.9860\n"
     ]
    }
   ],
   "source": [
    "train(model, train_ds=train_ds, eval_ds=eval_ds, epochs=1000, batch_size=batch_size, lr=1e-3, device=\"cpu\")"
   ]
  },
  {
   "cell_type": "code",
   "execution_count": null,
   "id": "0428f043",
   "metadata": {},
   "outputs": [
    {
     "data": {
      "text/plain": [
       "(tensor([[ 2.],\n",
       "         [10.],\n",
       "         [ 0.],\n",
       "         [ 6.]]),\n",
       " tensor(4.5000))"
      ]
     },
     "execution_count": 14,
     "metadata": {},
     "output_type": "execute_result"
    }
   ],
   "source": [
    "eval_ds[0]"
   ]
  },
  {
   "cell_type": "code",
   "execution_count": null,
   "id": "32ed2b07",
   "metadata": {},
   "outputs": [
    {
     "data": {
      "text/plain": [
       "(tensor([[4.5047]], grad_fn=<AddmmBackward0>), tensor(4.5000))"
      ]
     },
     "execution_count": 16,
     "metadata": {},
     "output_type": "execute_result"
    }
   ],
   "source": [
    "x, y = eval_ds[0]\n",
    "\n",
    "pred = model(x.unsqueeze(0))\n",
    "\n",
    "pred, y"
   ]
  },
  {
   "cell_type": "code",
   "execution_count": null,
   "id": "e70a1a80",
   "metadata": {},
   "outputs": [],
   "source": []
  }
 ],
 "metadata": {
  "kernelspec": {
   "display_name": ".venv",
   "language": "python",
   "name": "python3"
  },
  "language_info": {
   "codemirror_mode": {
    "name": "ipython",
    "version": 3
   },
   "file_extension": ".py",
   "mimetype": "text/x-python",
   "name": "python",
   "nbconvert_exporter": "python",
   "pygments_lexer": "ipython3",
   "version": "3.13.6"
  }
 },
 "nbformat": 4,
 "nbformat_minor": 5
}
