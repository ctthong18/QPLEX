{
 "cells": [
  {
   "cell_type": "code",
   "execution_count": null,
   "id": "86e13afb",
   "metadata": {},
   "outputs": [],
   "source": [
    "import torch.nn as nn\n",
    "from tqdm.notebook import tqdm_notebook as tqdm\n",
    "# from tqdm import tqdm\n",
    "import gym_agent as ga"
   ]
  },
  {
   "cell_type": "code",
   "execution_count": null,
   "id": "f6e0bd7f",
   "metadata": {},
   "outputs": [],
   "source": [
    "total_timesteps = 200000\n",
    "max_episode_steps = 500\n",
    "chkpt_dir = \"checkpoints/LunarLander-v2/DQN\"\n",
    "\n",
    "env_id = 'LunarLander-v3'"
   ]
  },
  {
   "cell_type": "markdown",
   "id": "8d2c0114",
   "metadata": {},
   "source": [
    "# DQN"
   ]
  },
  {
   "cell_type": "code",
   "execution_count": null,
   "id": "0b215bf9",
   "metadata": {},
   "outputs": [],
   "source": [
    "class DeepQNetwork(nn.Module):\n",
    "    def __init__(self, n_inp: int, n_out: int, features: list[int] = [64, 64]):\n",
    "        super().__init__()\n",
    "\n",
    "        layers = [n_inp] + features + [n_out]\n",
    "\n",
    "        self.net = nn.Sequential()\n",
    "\n",
    "        for i in range(len(layers)-1):\n",
    "            self.net.append(nn.Linear(layers[i], layers[i+1]))\n",
    "\n",
    "            if i < len(layers)-2:\n",
    "                self.net.append(nn.ReLU())\n",
    "\n",
    "    def forward(self, X):\n",
    "        return self.net(X)"
   ]
  },
  {
   "cell_type": "code",
   "execution_count": null,
   "id": "729e4c7c",
   "metadata": {},
   "outputs": [],
   "source": [
    "def net_factory():\n",
    "    return DeepQNetwork(\n",
    "        n_inp=8,\n",
    "        n_out=4,\n",
    "        features=[256, 256]\n",
    "    )"
   ]
  },
  {
   "cell_type": "code",
   "execution_count": null,
   "id": "970c0cc7",
   "metadata": {},
   "outputs": [],
   "source": [
    "policy = ga.core.TargetPolicy(\n",
    "    net_factory_func=net_factory,\n",
    "    lr = 1e-3\n",
    ")"
   ]
  },
  {
   "cell_type": "code",
   "execution_count": null,
   "id": "4ce31e70",
   "metadata": {},
   "outputs": [],
   "source": [
    "agent = ga.core.DQN(\n",
    "    policy=policy,\n",
    "    env_factory_fn=ga.make,\n",
    "    env_kwargs={\"id\": env_id, \"max_episode_steps\": max_episode_steps},\n",
    "    eps_decay_steps=100000,\n",
    ")"
   ]
  },
  {
   "cell_type": "code",
   "execution_count": null,
   "id": "9592a18a",
   "metadata": {},
   "outputs": [],
   "source": [
    "agent.fit(total_timesteps=200000, save_best=True, save_dir=chkpt_dir, progress_bar=tqdm)"
   ]
  },
  {
   "cell_type": "code",
   "execution_count": null,
   "id": "b755f9be",
   "metadata": {},
   "outputs": [],
   "source": [
    "agent.load(chkpt_dir, \"best\")"
   ]
  },
  {
   "cell_type": "code",
   "execution_count": null,
   "id": "db0b10d1",
   "metadata": {},
   "outputs": [],
   "source": [
    "agent.play(jupyter=True)"
   ]
  },
  {
   "cell_type": "code",
   "execution_count": null,
   "id": "936f24de",
   "metadata": {},
   "outputs": [],
   "source": [
    "agent.plot_scores(rolling_window=100)"
   ]
  },
  {
   "cell_type": "code",
   "execution_count": null,
   "id": "fe5022bf",
   "metadata": {},
   "outputs": [],
   "source": [
    "import pandas as pd\n",
    "import matplotlib.pyplot as plt\n",
    "\n",
    "def plot_rolling_stats(scores, window):\n",
    "    \"\"\"\n",
    "    Plot rolling min, mean, and max of a list of scores,\n",
    "    with a shaded region between min and max.\n",
    "\n",
    "    Parameters:\n",
    "    - scores: list of numeric values\n",
    "    - window: int, rolling window size\n",
    "    \"\"\"\n",
    "    if not scores:\n",
    "        raise ValueError(\"Scores list cannot be empty.\")\n",
    "    if window < 1:\n",
    "        raise ValueError(\"Window size must be at least 1.\")\n",
    "\n",
    "    # Create pandas Series\n",
    "    s = pd.Series(scores)\n",
    "\n",
    "    # Compute rolling statistics\n",
    "    rolling_max = s.rolling(window).max()\n",
    "    rolling_mean = s.rolling(window).mean()\n",
    "    rolling_min = s.rolling(window).min()\n",
    "\n",
    "    # Plot\n",
    "    plt.figure(figsize=(10, 6))\n",
    "\n",
    "    # Original scores\n",
    "    plt.plot(s, label=\"Original Scores\", color=\"gray\", alpha=0.5)\n",
    "\n",
    "    # Shaded region between rolling min and max\n",
    "    plt.fill_between(s.index, rolling_min, rolling_max,\n",
    "                     color=\"skyblue\", alpha=0.3, label=\"Min–Max Range\")\n",
    "\n",
    "    # Mean line\n",
    "    plt.plot(rolling_mean, label=f\"Rolling Mean (window={window})\", color=\"blue\", linewidth=2)\n",
    "\n",
    "    plt.title(\"Rolling Statistics of Scores\")\n",
    "    plt.xlabel(\"Index\")\n",
    "    plt.ylabel(\"Score\")\n",
    "    plt.legend()\n",
    "    plt.grid(True)\n",
    "    plt.show()\n"
   ]
  },
  {
   "cell_type": "code",
   "execution_count": null,
   "id": "e6d7bc56",
   "metadata": {},
   "outputs": [],
   "source": [
    "scores = [10, 12, 15, 20, 18, 22, 19, 25, 30, 28, 26, 24]\n",
    "plot_rolling_stats(scores, window=3)\n"
   ]
  },
  {
   "cell_type": "markdown",
   "id": "2df5a13d",
   "metadata": {},
   "source": [
    "# A2C"
   ]
  },
  {
   "cell_type": "code",
   "execution_count": null,
   "id": "d8d8263c",
   "metadata": {},
   "outputs": [],
   "source": [
    "class Feature_Extractor(nn.Module):\n",
    "    def __init__(self, n_inp: int, features: list[int] = [256, 256]):\n",
    "        super().__init__()\n",
    "\n",
    "        layers = [n_inp] + features\n",
    "\n",
    "        self.net = nn.Sequential()\n",
    "\n",
    "        for i in range(len(layers)-1):\n",
    "            self.net.append(nn.Linear(layers[i], layers[i+1]))\n",
    "            self.net.append(nn.ReLU())\n",
    "\n",
    "    def forward(self, X):\n",
    "        return self.net(X)"
   ]
  },
  {
   "cell_type": "code",
   "execution_count": null,
   "id": "85f8a05c",
   "metadata": {},
   "outputs": [],
   "source": [
    "def feature_extractor_factory():\n",
    "    return Feature_Extractor(\n",
    "        n_inp=8,\n",
    "        features=[256, 256]\n",
    "    )\n",
    "\n",
    "def actor_factory():\n",
    "    net = nn.Sequential(\n",
    "        Feature_Extractor(n_inp=8, features=[256, 256]),\n",
    "        nn.Linear(256, 4)\n",
    "    )\n",
    "    return net\n",
    "\n",
    "def critic_factory():\n",
    "    net = nn.Sequential(\n",
    "        Feature_Extractor(n_inp=8, features=[256, 256]),\n",
    "        nn.Linear(256, 1)\n",
    "    )\n",
    "    return net"
   ]
  },
  {
   "cell_type": "code",
   "execution_count": null,
   "id": "536b75f2",
   "metadata": {},
   "outputs": [],
   "source": [
    "policy = ga.core.ActorCriticPolicy(\n",
    "    actor_factory_func=actor_factory,\n",
    "    critic_factory_func=critic_factory,\n",
    "    actor_lr = 0.00083,\n",
    "    # feature_extractor_func=feature_extractor_factory,\n",
    ")"
   ]
  },
  {
   "cell_type": "code",
   "execution_count": null,
   "id": "48ed7f6d",
   "metadata": {},
   "outputs": [],
   "source": [
    "agent = ga.core.A2C(\n",
    "    policy=policy,\n",
    "    env_factory_fn=ga.make,\n",
    "    env_kwargs={\"id\": env_id, \"max_episode_steps\": max_episode_steps},\n",
    "    num_envs=4,\n",
    "    # n_steps=8,\n",
    "    # entropy_coef=0.001,\n",
    "    # gamma=0.995,\n",
    "    gae_lambda=0.95,\n",
    ")"
   ]
  },
  {
   "cell_type": "code",
   "execution_count": null,
   "id": "55ef4b63",
   "metadata": {},
   "outputs": [],
   "source": [
    "agent.fit(total_timesteps=total_timesteps, save_best=True, save_dir=\"checkpoints/LunarLander-v2/A2C\", progress_bar=tqdm)"
   ]
  },
  {
   "cell_type": "code",
   "execution_count": null,
   "id": "d50e2509",
   "metadata": {},
   "outputs": [],
   "source": [
    "agent.plot_scores()"
   ]
  },
  {
   "cell_type": "code",
   "execution_count": null,
   "id": "843ca3c7",
   "metadata": {},
   "outputs": [],
   "source": [
    "max(agent.mean_scores)"
   ]
  },
  {
   "cell_type": "code",
   "execution_count": null,
   "id": "8e420cc9",
   "metadata": {},
   "outputs": [],
   "source": [
    "import torch\n",
    "import numpy as np\n",
    "from stable_baselines3.common.buffers import RolloutBuffer"
   ]
  },
  {
   "cell_type": "code",
   "execution_count": null,
   "id": "cae38c47",
   "metadata": {},
   "outputs": [],
   "source": [
    "buffer = RolloutBuffer(buffer_size=5, observation_space=agent.envs.single_observation_space, action_space=agent.envs.single_action_space, device=agent.device, n_envs=4)"
   ]
  },
  {
   "cell_type": "code",
   "execution_count": null,
   "id": "778d8943",
   "metadata": {},
   "outputs": [],
   "source": [
    "indice = np.arange(0, 20, 5)"
   ]
  },
  {
   "cell_type": "code",
   "execution_count": null,
   "id": "4e31286c",
   "metadata": {},
   "outputs": [],
   "source": [
    "agent.memory.observations[indice].shape"
   ]
  },
  {
   "cell_type": "code",
   "execution_count": null,
   "id": "981aee0a",
   "metadata": {},
   "outputs": [],
   "source": [
    "agent.memory.episode_starts.shape"
   ]
  },
  {
   "cell_type": "code",
   "execution_count": null,
   "id": "912c9620",
   "metadata": {},
   "outputs": [],
   "source": [
    "for i in range(5):\n",
    "    obs = agent.memory.observations[indice + i]\n",
    "    actions = agent.memory.actions[indice + i].flatten()\n",
    "    rewards = agent.memory.rewards[indice + i].flatten()\n",
    "    eps_starts = agent.memory.episode_starts[i].flatten()\n",
    "    values = torch.from_numpy(agent.memory.values[indice + i].flatten())\n",
    "    log_probs = torch.from_numpy(agent.memory.log_probs[indice + i].flatten())\n",
    "\n",
    "    buffer.add(\n",
    "        obs,\n",
    "        actions,\n",
    "        rewards,\n",
    "        eps_starts,\n",
    "        values,\n",
    "        log_probs\n",
    "    )\n"
   ]
  },
  {
   "cell_type": "code",
   "execution_count": null,
   "id": "9d7cd06f",
   "metadata": {},
   "outputs": [],
   "source": [
    "from stable_baselines3 import A2C\n",
    "from stable_baselines3.common.env_util import make_vec_env\n",
    "from stable_baselines3.common.vec_env import SubprocVecEnv\n",
    "\n",
    "# Parallel environments\n",
    "vec_env = make_vec_env(\"LunarLander-v3\", n_envs=1, vec_env_cls=SubprocVecEnv)\n",
    "\n",
    "model = A2C(\"MlpPolicy\", vec_env, verbose=1)\n",
    "model.learn(total_timesteps=100000)\n",
    "model.save(\"temp\")\n",
    "\n",
    "del model # remove to demonstrate saving and loading\n",
    "\n",
    "model = A2C.load(\"temp\")\n",
    "\n",
    "obs = vec_env.reset()\n",
    "while True:\n",
    "    action, _states = model.predict(obs)\n",
    "    obs, rewards, dones, info = vec_env.step(action)\n",
    "    vec_env.render(\"human\")"
   ]
  },
  {
   "cell_type": "code",
   "execution_count": null,
   "id": "32d9f9d6",
   "metadata": {},
   "outputs": [],
   "source": [
    "model.rollout_buffer.observations.shape"
   ]
  },
  {
   "cell_type": "code",
   "execution_count": null,
   "id": "bdc125b4",
   "metadata": {},
   "outputs": [],
   "source": [
    "model.policy"
   ]
  },
  {
   "cell_type": "code",
   "execution_count": null,
   "id": "ed9603a0",
   "metadata": {},
   "outputs": [],
   "source": [
    "model = A2C.load(\"temp\")\n",
    "\n",
    "obs = vec_env.reset()\n",
    "while True:\n",
    "    action, _states = model.predict(obs)\n",
    "    obs, rewards, dones, info = vec_env.step(action)\n",
    "    vec_env.render(\"human\")"
   ]
  },
  {
   "cell_type": "code",
   "execution_count": null,
   "id": "254a1ae5",
   "metadata": {},
   "outputs": [],
   "source": [
    "vec_env.action_space"
   ]
  },
  {
   "cell_type": "code",
   "execution_count": null,
   "id": "cb6b5463",
   "metadata": {},
   "outputs": [],
   "source": [
    "import numpy as np"
   ]
  },
  {
   "cell_type": "code",
   "execution_count": null,
   "id": "8f1a5a79",
   "metadata": {},
   "outputs": [],
   "source": [
    "a = np.stack([[1, 2, 3], [4, 5, 6]])\n",
    "a"
   ]
  },
  {
   "cell_type": "code",
   "execution_count": null,
   "id": "75ebb73b",
   "metadata": {},
   "outputs": [],
   "source": [
    "from gym_agent.core.vec_env.subproc_vec_env import SubprocVecEnv\n",
    "import gym_agent as ga\n",
    "\n",
    "from stable_baselines3 import A2C"
   ]
  },
  {
   "cell_type": "code",
   "execution_count": null,
   "id": "c3b54671",
   "metadata": {},
   "outputs": [],
   "source": [
    "env = SubprocVecEnv([lambda: ga.make(id=\"LunarLander-v3\", max_episode_steps=20, render_mode=\"rgb_array\") for _ in range(4)])"
   ]
  },
  {
   "cell_type": "code",
   "execution_count": null,
   "id": "995ccfd6",
   "metadata": {},
   "outputs": [],
   "source": [
    "done = False\n",
    "\n",
    "obs, _ = env.reset()\n",
    "while not done:\n",
    "    obs, *_ = env.step(env.action_space.sample())\n",
    "\n",
    "    env.render(\"human\")"
   ]
  },
  {
   "cell_type": "code",
   "execution_count": null,
   "id": "85b20d61",
   "metadata": {},
   "outputs": [],
   "source": [
    "from gymnasium import Env"
   ]
  },
  {
   "cell_type": "code",
   "execution_count": null,
   "id": "e78092be",
   "metadata": {},
   "outputs": [],
   "source": [
    "import numpy as np"
   ]
  },
  {
   "cell_type": "code",
   "execution_count": null,
   "id": "989df51d",
   "metadata": {},
   "outputs": [],
   "source": [
    "scores = []\n",
    "current_scores = np.array([1.0, 2.2, 3.0, 4.5])\n",
    "dones = np.array([False, True, False, True])\n",
    "rewards = np.array([0.5, 1.0, 0.2, 0.3])"
   ]
  },
  {
   "cell_type": "code",
   "execution_count": null,
   "id": "74e79aff",
   "metadata": {},
   "outputs": [],
   "source": [
    "current_scores += rewards\n",
    "current_scores"
   ]
  },
  {
   "cell_type": "code",
   "execution_count": null,
   "id": "ac2adca3",
   "metadata": {},
   "outputs": [],
   "source": [
    "scores.extend(current_scores[dones].tolist())"
   ]
  },
  {
   "cell_type": "code",
   "execution_count": null,
   "id": "3befffc5",
   "metadata": {},
   "outputs": [],
   "source": [
    "current_scores[dones] = 0.0\n",
    "current_scores"
   ]
  },
  {
   "cell_type": "code",
   "execution_count": null,
   "id": "3cafab56",
   "metadata": {},
   "outputs": [],
   "source": [
    "scores , current_scores"
   ]
  },
  {
   "cell_type": "code",
   "execution_count": null,
   "id": "8757231b",
   "metadata": {},
   "outputs": [],
   "source": [
    "eps_start = 1.0\n",
    "eps_end = 0.01\n",
    "eps_decay = 0.9999998\n",
    "\n",
    "eps = eps_start\n",
    "\n",
    "i = 0\n",
    "\n",
    "while eps > eps_end:\n",
    "    eps = eps * eps_decay\n",
    "    i += 1\n",
    "\n",
    "print(i)"
   ]
  },
  {
   "cell_type": "code",
   "execution_count": null,
   "id": "134a032b",
   "metadata": {},
   "outputs": [],
   "source": [
    "(eps_end/eps_start) ** (1/time_step)"
   ]
  },
  {
   "cell_type": "code",
   "execution_count": null,
   "id": "65f1636f",
   "metadata": {},
   "outputs": [],
   "source": [
    "import numpy as np"
   ]
  },
  {
   "cell_type": "code",
   "execution_count": null,
   "id": "5ed63169",
   "metadata": {},
   "outputs": [],
   "source": [
    "a = np.ma.array([[2, 1],[0, 0],[3, 4]], mask=[[0, 0],[1,1],[0,0]], dtype=int)"
   ]
  },
  {
   "cell_type": "code",
   "execution_count": null,
   "id": "f07307d6",
   "metadata": {},
   "outputs": [],
   "source": [
    "np.sort(a)"
   ]
  },
  {
   "cell_type": "code",
   "execution_count": null,
   "id": "a8dc7b60",
   "metadata": {},
   "outputs": [],
   "source": [
    "a.dtype"
   ]
  },
  {
   "cell_type": "code",
   "execution_count": null,
   "id": "4613024f",
   "metadata": {},
   "outputs": [],
   "source": [
    "b = {\"a\": 3, \"b\": 4}\n",
    "c = {\"a\": None, \"b\": 3}"
   ]
  },
  {
   "cell_type": "code",
   "execution_count": null,
   "id": "e1c4f40a",
   "metadata": {},
   "outputs": [],
   "source": [
    "a.update(b)\n",
    "a"
   ]
  },
  {
   "cell_type": "code",
   "execution_count": null,
   "id": "7e2fd1fe",
   "metadata": {},
   "outputs": [],
   "source": [
    "import numpy as np"
   ]
  },
  {
   "cell_type": "code",
   "execution_count": null,
   "id": "5812820f",
   "metadata": {},
   "outputs": [],
   "source": [
    "np.empty_like(\"3\")"
   ]
  },
  {
   "cell_type": "code",
   "execution_count": null,
   "id": "1a830af6",
   "metadata": {},
   "outputs": [],
   "source": [
    "np.empty_like((4, 2))"
   ]
  },
  {
   "cell_type": "code",
   "execution_count": null,
   "id": "08e05f06",
   "metadata": {},
   "outputs": [],
   "source": [
    "import torch"
   ]
  },
  {
   "cell_type": "code",
   "execution_count": null,
   "id": "37a2036c",
   "metadata": {},
   "outputs": [],
   "source": [
    "m = torch.tensor([-6, 0, 3])"
   ]
  },
  {
   "cell_type": "code",
   "execution_count": null,
   "id": "eaf942a0",
   "metadata": {},
   "outputs": [],
   "source": [
    "sigmoid_m = torch.sigmoid(m)"
   ]
  },
  {
   "cell_type": "code",
   "execution_count": null,
   "id": "a0354787",
   "metadata": {},
   "outputs": [],
   "source": [
    "torch.stop_gradient(sigma_m)"
   ]
  },
  {
   "cell_type": "code",
   "execution_count": null,
   "id": "2b3eaf25",
   "metadata": {},
   "outputs": [],
   "source": []
  }
 ],
 "metadata": {
  "kernelspec": {
   "display_name": ".venv",
   "language": "python",
   "name": "python3"
  },
  "language_info": {
   "codemirror_mode": {
    "name": "ipython",
    "version": 3
   },
   "file_extension": ".py",
   "mimetype": "text/x-python",
   "name": "python",
   "nbconvert_exporter": "python",
   "pygments_lexer": "ipython3",
   "version": "3.13.6"
  }
 },
 "nbformat": 4,
 "nbformat_minor": 5
}
